{
  "nbformat": 4,
  "nbformat_minor": 0,
  "metadata": {
    "colab": {
      "name": "firstname_lastname_p1.rodrigo.luna.ipynb",
      "version": "0.3.2",
      "provenance": [],
      "collapsed_sections": [],
      "include_colab_link": true
    },
    "language_info": {
      "codemirror_mode": {
        "name": "ipython",
        "version": 2
      },
      "file_extension": ".py",
      "mimetype": "text/x-python",
      "name": "python",
      "nbconvert_exporter": "python",
      "pygments_lexer": "ipython2",
      "version": "2.7.15"
    },
    "kernelspec": {
      "display_name": "Python 2",
      "language": "python",
      "name": "python2"
    }
  },
  "cells": [
    {
      "cell_type": "markdown",
      "metadata": {
        "id": "view-in-github",
        "colab_type": "text"
      },
      "source": [
        "<a href=\"https://colab.research.google.com/github/dataSci-rigo/opencv/blob/master/firstname_lastname_p1_rodrigo_luna.ipynb\" target=\"_parent\"><img src=\"https://colab.research.google.com/assets/colab-badge.svg\" alt=\"Open In Colab\"/></a>"
      ]
    },
    {
      "cell_type": "markdown",
      "metadata": {
        "id": "CjUJGz_wLkTk",
        "colab_type": "text"
      },
      "source": [
        "# Project 1: Digit Classification with KNN and Naive Bayes"
      ]
    },
    {
      "cell_type": "markdown",
      "metadata": {
        "id": "o9noHi1SLkTm",
        "colab_type": "text"
      },
      "source": [
        "In this project, you'll implement your own image recognition system for classifying digits. Read through the code and the instructions carefully and add your own code where indicated. Each problem can be addressed succinctly with the included packages -- please don't add any more. Grading will be based on writing clean, commented code, along with a few short answers.\n",
        "\n",
        "As always, you're welcome to work on the project in groups and discuss ideas on the course wall, but <b> please prepare your own write-up (with your own code). </b>\n",
        "\n",
        "If you're interested, check out these links related to digit recognition:\n",
        "\n",
        "Yann Lecun's MNIST benchmarks: http://yann.lecun.com/exdb/mnist/\n",
        "\n",
        "Stanford Streetview research and data: http://ufldl.stanford.edu/housenumbers/"
      ]
    },
    {
      "cell_type": "code",
      "metadata": {
        "id": "CG1rsda4LkTn",
        "colab_type": "code",
        "colab": {}
      },
      "source": [
        "# This tells matplotlib not to try opening a new window for each plot.\n",
        "%matplotlib inline\n",
        "\n",
        "# Import a bunch of libraries.\n",
        "import time\n",
        "import numpy as np\n",
        "import matplotlib.pyplot as plt\n",
        "from matplotlib.ticker import MultipleLocator\n",
        "from sklearn.pipeline import Pipeline\n",
        "from sklearn.datasets import fetch_openml\n",
        "from sklearn.neighbors import KNeighborsClassifier\n",
        "from sklearn.metrics import confusion_matrix\n",
        "from sklearn.linear_model import LinearRegression\n",
        "from sklearn.naive_bayes import BernoulliNB\n",
        "from sklearn.naive_bayes import MultinomialNB\n",
        "from sklearn.naive_bayes import GaussianNB\n",
        "from sklearn.model_selection import GridSearchCV\n",
        "from sklearn.metrics import classification_report\n",
        "\n",
        "# Set the randomizer seed so results are the same each time.\n",
        "np.random.seed(0)"
      ],
      "execution_count": 0,
      "outputs": []
    },
    {
      "cell_type": "markdown",
      "metadata": {
        "id": "X9M9bvyjLkTq",
        "colab_type": "text"
      },
      "source": [
        "Load the data. Notice that we are splitting the data into training, development, and test. We also have a small subset of the training data called mini_train_data and mini_train_labels that you should use in all the experiments below, unless otherwise noted."
      ]
    },
    {
      "cell_type": "code",
      "metadata": {
        "id": "Zf1UoZcOLkTr",
        "colab_type": "code",
        "outputId": "4b3d4206-c540-4f58-db71-084b517eded4",
        "colab": {
          "base_uri": "https://localhost:8080/",
          "height": 52
        }
      },
      "source": [
        "# Load the digit data from https://www.openml.org/d/554 or from default local location '~/scikit_learn_data/...'\n",
        "X, Y = fetch_openml(name='mnist_784', return_X_y=True, cache=False)\n",
        "\n",
        "\n",
        "# Rescale grayscale values to [0,1].\n",
        "X = X / 255.0\n",
        "\n",
        "# Shuffle the input: create a random permutation of the integers between 0 and the number of data points and apply this\n",
        "# permutation to X and Y.\n",
        "# NOTE: Each time you run this cell, you'll re-shuffle the data, resulting in a different ordering.\n",
        "shuffle = np.random.permutation(np.arange(X.shape[0]))\n",
        "X, Y = X[shuffle], Y[shuffle]\n",
        "\n",
        "print 'data shape: ', X.shape\n",
        "print 'label shape:', Y.shape\n",
        "\n",
        "# Set some variables to hold test, dev, and training data.\n",
        "test_data, test_labels = X[61000:], Y[61000:]\n",
        "dev_data, dev_labels = X[60000:61000], Y[60000:61000]\n",
        "train_data, train_labels = X[:60000], Y[:60000]\n",
        "mini_train_data, mini_train_labels = X[:1000], Y[:1000]"
      ],
      "execution_count": 133,
      "outputs": [
        {
          "output_type": "stream",
          "text": [
            "data shape:  (70000, 784)\n",
            "label shape: (70000,)\n"
          ],
          "name": "stdout"
        }
      ]
    },
    {
      "cell_type": "markdown",
      "metadata": {
        "id": "LBMg6pp2LkTw",
        "colab_type": "text"
      },
      "source": [
        "(1) Create a 10x10 grid to visualize 10 examples of each digit. Python hints:\n",
        "\n",
        "- plt.rc() for setting the colormap, for example to black and white\n",
        "- plt.subplot() for creating subplots\n",
        "- plt.imshow() for rendering a matrix\n",
        "- np.array.reshape() for reshaping a 1D feature vector into a 2D matrix (for rendering)"
      ]
    },
    {
      "cell_type": "code",
      "metadata": {
        "id": "NAcNPV-PLkTx",
        "colab_type": "code",
        "outputId": "15263a0b-74c3-4a0d-ba42-5858e9525287",
        "colab": {
          "base_uri": "https://localhost:8080/",
          "height": 273
        }
      },
      "source": [
        "\n",
        "print(X.shape)\n",
        "\n",
        "def P1(num_examples=10):\n",
        "  \n",
        "### STUDENT START ###\n",
        "  #for each of the ten integers\n",
        "  #convert each to a string\n",
        "  #Find the index in Y that equals that string\n",
        "  #Use the Y index to index X, and num_exampls\n",
        "  x_new=np.array([X[Y==str(i)][0:num_examples] for i in range(10)],dtype=float)\n",
        "  plt.rc(\"image\", cmap=\"Greys\")\n",
        "  for i in range(10):\n",
        "    for k in range (num_examples):\n",
        "      plt.subplot(10,num_examples,i*num_examples+k+1)\n",
        "      #Remove x and y ticks to may the plots look cleaner\n",
        "      plt.xticks([])\n",
        "      plt.yticks([])\n",
        "      #plt.imshow(x_new[i][k].reshape(28,28),cmap='Greys',  interpolation='nearest')\n",
        "      plt.imshow(x_new[i,k].reshape(28,28),  interpolation='nearest')\n",
        "\n",
        "### STUDENT END ###\n",
        "\n",
        "P1(8)\n",
        "\n",
        "###plt.rc(c=\"\") ###this causes me problems by the way"
      ],
      "execution_count": 250,
      "outputs": [
        {
          "output_type": "stream",
          "text": [
            "(70000, 784)\n"
          ],
          "name": "stdout"
        },
        {
          "output_type": "display_data",
          "data": {
            "image/png": "[encoded data removed]",
            "text/plain": [
              "<Figure size 432x288 with 80 Axes>"
            ]
          },
          "metadata": {
            "tags": []
          }
        }
      ]
    },
    {
      "cell_type": "code",
      "metadata": {
        "id": "5qCWelbCvoip",
        "colab_type": "code",
        "colab": {}
      },
      "source": [
        ""
      ],
      "execution_count": 0,
      "outputs": []
    },
    {
      "cell_type": "markdown",
      "metadata": {
        "id": "AhcEgB5BLkTz",
        "colab_type": "text"
      },
      "source": [
        "(2) Evaluate a K-Nearest-Neighbors model with k = [1,3,5,7,9] using the mini training set. Report accuracy on the dev set. For k=1, show precision, recall, and F1 for each label. Which is the most difficult digit?\n",
        "\n",
        "- KNeighborsClassifier() for fitting and predicting\n",
        "- classification_report() for producing precision, recall, F1 results"
      ]
    },
    {
      "cell_type": "code",
      "metadata": {
        "id": "EVEn_N1uLkT0",
        "colab_type": "code",
        "outputId": "6e24d929-c47a-4262-be77-cf3f1c5b5633",
        "colab": {
          "base_uri": "https://localhost:8080/",
          "height": 426
        }
      },
      "source": [
        "def P2(k_values):\n",
        "\n",
        "### STUDENT START ###\n",
        "  accuracy=[]\n",
        "  for k in k_values[::-1]:\n",
        "    simple=KNeighborsClassifier(n_neighbors=k,algorithm='auto')\n",
        "    simple.fit(mini_train_data, mini_train_labels)\n",
        "    dev_predict=simple.predict(dev_data)\n",
        "    stuff=[str(i) for i in range(0,10)]\n",
        "    output=classification_report(dev_labels, dev_predict, target_names=stuff,output_dict=True)\n",
        "    accuracy.append(output.get('macro avg').get('precision'))\n",
        "    #print(k, output.get('macro avg').get('precision'))\n",
        "  print(classification_report(dev_labels, dev_predict, target_names=stuff,output_dict=False))\n",
        "  return [k_values,accuracy[::-1]]\n",
        "### STUDENT END ###\n",
        "\n",
        "k_values = [1, 3, 5, 7, 9]\n",
        "P2(k_values)"
      ],
      "execution_count": 211,
      "outputs": [
        {
          "output_type": "stream",
          "text": [
            "              precision    recall  f1-score   support\n",
            "\n",
            "           0       0.92      0.94      0.93       104\n",
            "           1       0.85      0.97      0.91       114\n",
            "           2       0.93      0.84      0.88        97\n",
            "           3       0.88      0.81      0.84       106\n",
            "           4       0.89      0.87      0.88       100\n",
            "           5       0.82      0.90      0.86        92\n",
            "           6       0.95      0.95      0.95        99\n",
            "           7       0.84      0.87      0.85        97\n",
            "           8       0.90      0.80      0.85        93\n",
            "           9       0.81      0.81      0.81        98\n",
            "\n",
            "   micro avg       0.88      0.88      0.88      1000\n",
            "   macro avg       0.88      0.88      0.88      1000\n",
            "weighted avg       0.88      0.88      0.88      1000\n",
            "\n"
          ],
          "name": "stdout"
        },
        {
          "output_type": "execute_result",
          "data": {
            "text/plain": [
              "[[9, 7, 5, 3, 1],\n",
              " [0.8785913210603651,\n",
              "  0.8813069569588332,\n",
              "  0.8882606881124617,\n",
              "  0.8814104405659009,\n",
              "  0.875616895936872]]"
            ]
          },
          "metadata": {
            "tags": []
          },
          "execution_count": 211
        }
      ]
    },
    {
      "cell_type": "code",
      "metadata": {
        "id": "I7qfRcQ2N9r9",
        "colab_type": "code",
        "colab": {}
      },
      "source": [
        "\n"
      ],
      "execution_count": 0,
      "outputs": []
    },
    {
      "cell_type": "markdown",
      "metadata": {
        "id": "VFAIEZi9LkT2",
        "colab_type": "text"
      },
      "source": [
        "ANSWER:  The most difficult digit is \"9,\" followed by \"5\""
      ]
    },
    {
      "cell_type": "markdown",
      "metadata": {
        "id": "hFukiUp5LkT3",
        "colab_type": "text"
      },
      "source": [
        "(3) Using k=1, report dev set accuracy for the training set sizes below. Also, measure the amount of time needed for prediction with each training size.\n",
        "\n",
        "- time.time() gives a wall clock value you can use for timing operations"
      ]
    },
    {
      "cell_type": "code",
      "metadata": {
        "id": "KtaIb60LLkT4",
        "colab_type": "code",
        "outputId": "b9fa3a4e-9197-4099-ae42-c782b430e5a2",
        "colab": {
          "base_uri": "https://localhost:8080/",
          "height": 355
        }
      },
      "source": [
        "def P3(train_sizes, accuracies):\n",
        "  stuff=[str(i) for i in range(0,10)]\n",
        "  delta_times=[]\n",
        "### STUDENT START ###\n",
        "  for train_size in train_sizes:\n",
        "    start_time=time.time()  \n",
        "    simple=KNeighborsClassifier(n_neighbors=1,algorithm='auto')\n",
        "    simple.fit(train_data[:train_size], train_labels[:train_size])\n",
        "    dev_predict=simple.predict(dev_data)\n",
        "    \n",
        "    output=classification_report(dev_labels, dev_predict, target_names=stuff,output_dict=True).get('macro avg').get('precision')\n",
        "    accuracies.append(output)\n",
        "    delta_time=time.time()-start_time\n",
        "    delta_times.append(delta_time)\n",
        "    print(\"calculation time for training set of size: \"+str(train_size)+\" is \"+str(delta_time)+\" and a precision of \"+str(output))\n",
        "  print(delta_times)\n",
        "  return accuracies\n",
        "  \n",
        "\n",
        "### STUDENT END ###\n",
        "\n",
        "train_sizes = [100, 200, 400, 800, 1600, 3200, 6400, 12800, 25000]\n",
        "#train_sizes = [100, 200, 400, 800]\n",
        "accuracies = []\n",
        "P3(train_sizes, accuracies)"
      ],
      "execution_count": 0,
      "outputs": [
        {
          "output_type": "stream",
          "text": [
            "calculation time for training set of size: 100 is 0.184540987015 and a precision of 0.718473258727\n",
            "calculation time for training set of size: 200 is 0.353307962418 and a precision of 0.795929038433\n",
            "calculation time for training set of size: 400 is 0.655498027802 and a precision of 0.812840763894\n",
            "calculation time for training set of size: 800 is 1.29914903641 and a precision of 0.866121225649\n",
            "calculation time for training set of size: 1600 is 2.59640407562 and a precision of 0.905074225623\n",
            "calculation time for training set of size: 3200 is 5.72828888893 and a precision of 0.925764362215\n",
            "calculation time for training set of size: 6400 is 11.7166249752 and a precision of 0.938254125388\n",
            "calculation time for training set of size: 12800 is 24.1417160034 and a precision of 0.951121541396\n",
            "calculation time for training set of size: 25000 is 49.8117601871 and a precision of 0.962094437725\n",
            "[0.1845409870147705, 0.35330796241760254, 0.6554980278015137, 1.2991490364074707, 2.5964040756225586, 5.728288888931274, 11.716624975204468, 24.14171600341797, 49.81176018714905]\n"
          ],
          "name": "stdout"
        },
        {
          "output_type": "execute_result",
          "data": {
            "text/plain": [
              "[0.7184732587267842,\n",
              " 0.7959290384326463,\n",
              " 0.8128407638941573,\n",
              " 0.8661212256485935,\n",
              " 0.905074225622861,\n",
              " 0.9257643622153109,\n",
              " 0.9382541253884276,\n",
              " 0.9511215413960213,\n",
              " 0.9620944377254826]"
            ]
          },
          "metadata": {
            "tags": []
          },
          "execution_count": 27
        }
      ]
    },
    {
      "cell_type": "markdown",
      "metadata": {
        "id": "oSOuTEQYLkT6",
        "colab_type": "text"
      },
      "source": [
        "(4) Fit a regression model that predicts accuracy from training size. What does it predict for n=60000? What's wrong with using regression here? Can you apply a transformation that makes the predictions more reasonable?\n",
        "\n",
        "- Remember that the sklearn fit() functions take an input matrix X and output vector Y. So each input example in X is a vector, even if it contains only a single value."
      ]
    },
    {
      "cell_type": "code",
      "metadata": {
        "id": "a9ASg8RBLkT7",
        "colab_type": "code",
        "outputId": "db005e8d-17e8-4002-ec0d-b7fa9d2b11c7",
        "colab": {
          "base_uri": "https://localhost:8080/",
          "height": 88
        }
      },
      "source": [
        "\n",
        "def P4():\n",
        "  train_sizes = [100, 200, 400, 800, 1600, 3200, 6400, 12800, 25000]\n",
        "  accuracies=[0.7184732587267842,\n",
        " 0.7959290384326463,\n",
        " 0.8128407638941573,\n",
        " 0.8661212256485935,\n",
        " 0.905074225622861,\n",
        " 0.9257643622153109,\n",
        " 0.9382541253884276,\n",
        " 0.9511215413960213,\n",
        " 0.9620944377254826]\n",
        "### STUDENT START ###\n",
        "  def expo(x):\n",
        "    return 2**(-x/1800)\n",
        "  new_X2=np.log(train_sizes)\n",
        "  #print np.e**-1\n",
        "  new_X=[[expo(train_size)] for train_size in train_sizes]\n",
        "  #print train_sizes\n",
        "  #print new_X\n",
        "  accuracies2= np.log(accuracies)\n",
        "  #reg = LinearRegression().fit(new_X2.reshape(-1, 1), accuracies2)\n",
        "  reg = LinearRegression().fit(new_X, accuracies2)\n",
        "  #print reg.score(new_X, accuracies)\n",
        "  #print reg.coef_\n",
        "  #print reg.intercept_\n",
        "  validation=[100, 200, 400, 800, 1600, 3200, 6400, 12800, 25000,60000]\n",
        "  return np.e**(reg.predict([[expo(val)] for val in validation])) \n",
        "\n",
        "### STUDENT END ###\n",
        "\n",
        "P4()"
      ],
      "execution_count": 203,
      "outputs": [
        {
          "output_type": "stream",
          "text": [
            "[100, 200, 400, 800, 1600, 3200, 6400, 12800, 25000]\n",
            "[[0.5], [0.5], [0.5], [0.5], [0.5], [0.25], [0.0625], [0.00390625], [6.103515625e-05]]\n"
          ],
          "name": "stdout"
        },
        {
          "output_type": "execute_result",
          "data": {
            "text/plain": [
              "array([0.8203036 , 0.8203036 , 0.8203036 , 0.8203036 , 0.8203036 ,\n",
              "       0.88925916, 0.9447538 , 0.96279619, 0.9639922 , 0.96401119])"
            ]
          },
          "metadata": {
            "tags": []
          },
          "execution_count": 203
        }
      ]
    },
    {
      "cell_type": "markdown",
      "metadata": {
        "id": "6n2wYXxkLkT9",
        "colab_type": "text"
      },
      "source": [
        "ANSWER: The linear model predicts accuracy that exceeds 100%. I transformed the training set into a negative exponential then applied trained the linear regression on that transformation. Since the data doubles in size I made the exponent 2. I transformed the accuracies with a log fucntion."
      ]
    },
    {
      "cell_type": "markdown",
      "metadata": {
        "id": "yGk9dilqLkT_",
        "colab_type": "text"
      },
      "source": [
        "Fit a 1-NN and output a confusion matrix for the dev data. Use the confusion matrix to identify the most confused pair of digits, and display a few example mistakes.\n",
        "\n",
        "- confusion_matrix() produces a confusion matrix"
      ]
    },
    {
      "cell_type": "code",
      "metadata": {
        "id": "lZBenYQDLkUA",
        "colab_type": "code",
        "outputId": "fb1f8791-414d-4d3d-fc4b-9e8574f3efd9",
        "colab": {
          "base_uri": "https://localhost:8080/",
          "height": 433
        }
      },
      "source": [
        "#def P5():\n",
        "\n",
        "### STUDENT START ###\n",
        "  simple=KNeighborsClassifier(n_neighbors=1,algorithm='auto')\n",
        "  simple.fit(train_data[:6400],train_labels[:6400])\n",
        "  dev_predict=simple.predict(dev_data)\n",
        "  stuff=[str(i) for i in range(0,10)]\n",
        "  print confusion_matrix(dev_labels, dev_predict, labels=stuff )\n",
        "  #print confusion_matrix(dev_labels, dev_predict, labels=stuff ).ravel()\n",
        "  num=[9,8,4,7]\n",
        "  num_examples=10\n",
        "  mistakes=np.array(dev_data[dev_labels!=dev_predict],dtype=float)\n",
        "  for k in range (num_examples):\n",
        "    plt.subplot(5,2,k+1)\n",
        "    #Remove x and y ticks to may the plots look cleaner\n",
        "    plt.xticks([])\n",
        "    plt.yticks([])\n",
        "    plt.imshow(mistakes[k].reshape(28,28),  interpolation='nearest')\n",
        " ###print a few example mistakes!   \n",
        "### STUDENT END ###\n",
        "\n",
        "#P5()\n"
      ],
      "execution_count": 219,
      "outputs": [
        {
          "output_type": "stream",
          "text": [
            "[[103   0   0   0   0   0   1   0   0   0]\n",
            " [  0 112   0   0   1   0   1   0   0   0]\n",
            " [  0   3  86   2   0   1   2   3   0   0]\n",
            " [  0   1   3  97   0   1   0   2   0   2]\n",
            " [  0   0   0   0  96   0   0   0   0   4]\n",
            " [  1   0   0   1   0  89   0   0   1   0]\n",
            " [  1   0   0   0   0   0  98   0   0   0]\n",
            " [  1   2   0   0   2   0   0  91   0   1]\n",
            " [  0   2   4   1   1   4   0   1  80   0]\n",
            " [  1   0   1   2   4   0   1   2   0  87]]\n"
          ],
          "name": "stdout"
        },
        {
          "output_type": "display_data",
          "data": {
            "image/png": "[encoded data removed]",
            "text/plain": [
              "<Figure size 432x288 with 10 Axes>"
            ]
          },
          "metadata": {
            "tags": []
          }
        }
      ]
    },
    {
      "cell_type": "code",
      "metadata": {
        "id": "KgCNUDkuWu4D",
        "colab_type": "code",
        "colab": {}
      },
      "source": [
        "```\n",
        "def P5():\n",
        "\n",
        "### STUDENT START ###\n",
        " simple=KNeighborsClassifier(n_neighbors=1,algorithm='auto')\n",
        " simple.fit(dev_data,dev_labels)\n",
        " dev_predict=simple.predict(dev_data)\n",
        " stuff=[str(i) for i in range(0,10)]\n",
        " print confusion_matrix(dev_labels, dev_predict, labels=stuff )\n",
        " ###print a few example mistakes!   \n",
        "### STUDENT END ###\n",
        "\n",
        "P5()\n",
        "```"
      ],
      "execution_count": 0,
      "outputs": []
    },
    {
      "cell_type": "code",
      "metadata": {
        "id": "B7K6q9AlWvUb",
        "colab_type": "code",
        "colab": {}
      },
      "source": [
        ""
      ],
      "execution_count": 0,
      "outputs": []
    },
    {
      "cell_type": "markdown",
      "metadata": {
        "id": "4nixfswpLkUC",
        "colab_type": "text"
      },
      "source": [
        "(6) A common image processing technique is to smooth an image by blurring. The idea is that the value of a particular pixel is estimated as the weighted combination of the original value and the values around it. Typically, the blurring is Gaussian -- that is, the weight of a pixel's influence is determined by a Gaussian function over the distance to the relevant pixel.\n",
        "\n",
        "Implement a simplified Gaussian blur by just using the 8 neighboring pixels: the smoothed value of a pixel is a weighted combination of the original value and the 8 neighboring values. Try applying your blur filter in 3 ways:\n",
        "- preprocess the training data but not the dev data\n",
        "- preprocess the dev data but not the training data\n",
        "- preprocess both training and dev data\n",
        "\n",
        "Note that there are Guassian blur filters available, for example in scipy.ndimage.filters. You're welcome to experiment with those, but you are likely to get the best results with the simplified version I described above."
      ]
    },
    {
      "cell_type": "code",
      "metadata": {
        "id": "dQQXcH8YLkUD",
        "colab_type": "code",
        "outputId": "de5f3bae-0edf-4e80-a7e9-e55a58fa0fc0",
        "colab": {
          "base_uri": "https://localhost:8080/",
          "height": 292
        }
      },
      "source": [
        "def P6():\n",
        "    \n",
        "### STUDENT START ###\n",
        "  kernal=[[0.01, 0.08, 0.01],[0.08, 0.64, 0.08],[0.01, 0.08, 0.01]]\n",
        "\n",
        "  def filt(pix):\n",
        "    return pix>754 or pix<28 or pix%28==0 or pix%28==27\n",
        "  def kernx(img,pix):\n",
        "    return np.sum(kernal*np.array((img[pix-29:pix-26],img[pix-1:pix+2],img[pix+27:pix+30])))\n",
        "  def kernal_iter(img):\n",
        "    return (img[pix] if filt(pix) else kernx(img,pix) for pix in range(len(img))) \n",
        "  def img_blur(img):\n",
        "    return np.fromiter(kernal_iter(img),float, count=len(img))\n",
        "  def data_blur_all(arr):\n",
        "    return np.apply_along_axis(img_blur, 0, np.copy(arr))\n",
        "  x_train=np.apply_along_axis(img_blur, 0, np.copy(train_data))\n",
        "\n",
        "  x_dev=np.apply_along_axis(img_blur, 0, np.copy(dev_data))\n",
        "  #print x_dev.shape\n",
        "  plt.subplot(1,2,1)\n",
        "  plt.imshow(x_dev[3].reshape(28,28),  interpolation='nearest')\n",
        "  plt.subplot(1,2,2)\n",
        "  plt.imshow(dev_data[3].reshape(28,28),  interpolation='nearest')\n",
        "  image_numbs = BernoulliNB(alpha=0.01, binarize=0.5, class_prior=None, fit_prior=True)\n",
        "  stuff=[str(i) for i in range(0,10)]\n",
        "  image_numbs.fit(x_train, train_labels)\n",
        "  pred=image_numbs.predict(x_dev)\n",
        "  output = classification_report(dev_labels,pred, target_names=stuff,output_dict=True)\n",
        "  print output.get('macro avg').get('precision')\n",
        "  blur_estimator=KNeighborsClassifier(n_neighbors=1,algorithm='auto')\n",
        "  simple=KNeighborsClassifier(n_neighbors=1,algorithm='auto')\n",
        "  blur_estimator.fit(x_train[:6400], train_labels[:6400])\n",
        "  simple.fit(train_data[:6400], train_labels[:6400])\n",
        "  dev_predict1=simple.predict(dev_data)\n",
        "  dev_predict2=simple.predict(x_dev)\n",
        "  dev_predict3=blur_estimator.predict(dev_data)\n",
        "  dev_predict4=blur_estimator.predict(x_dev)\n",
        "\n",
        "  print classification_report(dev_labels, dev_predict1, target_names=stuff,output_dict=True).get('macro avg').get('precision')\n",
        "  print classification_report(dev_labels, dev_predict2, target_names=stuff,output_dict=True).get('macro avg').get('precision')\n",
        "  print classification_report(dev_labels, dev_predict3, target_names=stuff,output_dict=True).get('macro avg').get('precision')\n",
        "  print classification_report(dev_labels, dev_predict4, target_names=stuff,output_dict=True).get('macro avg').get('precision')\n",
        "\n",
        "### STUDENT END ###\n",
        "\n",
        "P6()"
      ],
      "execution_count": 226,
      "outputs": [
        {
          "output_type": "stream",
          "text": [
            "0.822693785002\n",
            "0.939634483969\n",
            "0.913758639012\n",
            "0.936152072499\n",
            "0.879138339571\n"
          ],
          "name": "stdout"
        },
        {
          "output_type": "display_data",
          "data": {
            "image/png": "[encoded data removed]",
            "text/plain": [
              "<Figure size 432x288 with 2 Axes>"
            ]
          },
          "metadata": {
            "tags": []
          }
        }
      ]
    },
    {
      "cell_type": "code",
      "metadata": {
        "id": "wlZmc3CABNf_",
        "colab_type": "code",
        "outputId": "3ef44f55-39fa-4806-9459-5dacf9684878",
        "colab": {
          "base_uri": "https://localhost:8080/",
          "height": 295
        }
      },
      "source": [
        "\n",
        "\n",
        "\n",
        "\n",
        "\n",
        "print x_train.shape\n",
        "'''```\n",
        "  kernal=[[0.01, 0.08, 0.01],[0.08, 0.64, 0.08],[0.01, 0.08, 0.01]]\n",
        "  #pixel=(0,0)\n",
        "  \n",
        "  #proc=np.copy(dev_data[1]).reshape((28,28))\n",
        "  #numpy.fromiter((<some_func>(x) for x in <something>),<dtype>,<size of something>)\n",
        "  #def numb_image(image):\n",
        "  #  return lambda pix: \n",
        "  #np.apply_along_axis(numb_image())\n",
        " \n",
        "  def img_blur(image):\n",
        "    proc=np.copy(image).reshape((28,28))\n",
        "    out=np.zeros((28,28),dtype=float)\n",
        "    for i in range(1,27):\n",
        "      for k in range(1,27):\n",
        "        out[i][k]=np.sum(kernal*np.copy(proc[i-1:i+2,k-1:k+2]))\n",
        "    return out\n",
        "  def set_blur(data):\n",
        "    print data.shape[0]\n",
        "    \n",
        "    #return np.fromiter((img_blur(data[i,]) for i in range(data.shape[0])), dtype=float)\n",
        "    return np.fromiter(img_blur, dtype=float)\n",
        "  plt.subplot(1,2,1)\n",
        "  plt.imshow(img_blur(dev_data[3]),  interpolation='nearest')\n",
        "  plt.subplot(1,2,2)\n",
        "  plt.imshow(dev_data[3].reshape(28,28),  interpolation='nearest')\n",
        "  blur_test_data=set_blur(test_data)\n",
        "  blur_dev_data=set_blut(dev_data)\n",
        "def img_blur(img):\n",
        "  for pix in img:\n",
        "    if pix>754 or pix<28 or pix%28==0 or pix%28==27:\n",
        "      return img[pix]\n",
        "    else:\n",
        "      return np.sum(kernal*np.copy(np.array(img[pix-29:pix-26],img[pix-1:pix+2],img[pix+27:pix+30])))\n",
        "def kern2(img,pix):\n",
        "  return(np.sum(kernal*np.copy(img.reshape((28,28))[pix%28-1:pix%28+2,pix/28-1:pix/28+2])))\n",
        "def kern3(img,pix):\n",
        "  return(np.sum(kernal*np.copy(img.reshape((28,28))[pix%28-1:pix%28+2,pix/28-1:pix/28+2])))\n",
        "                \n",
        "def img_blur1(img):                \n",
        "  #filter_iter=np.nonzero(img<754 and img>28 and img%28!=0 and img%28!=27)\n",
        "  print np.array(np.nonzero(img<754)).shape\n",
        "  #print fliter_iter.shape\n",
        "img_blur1(x[1])\n",
        "```'''"
      ],
      "execution_count": 118,
      "outputs": [
        {
          "output_type": "stream",
          "text": [
            "1 loop, best of 3: 833 ms per loop\n",
            "10 loops, best of 3: 25.5 ms per loop\n",
            "(60000, 784)\n"
          ],
          "name": "stdout"
        },
        {
          "output_type": "execute_result",
          "data": {
            "text/plain": [
              "'```\\ndef img_blur(img):\\n  for pix in img:\\n    if pix>754 or pix<28 or pix%28==0 or pix%28==27:\\n      return img[pix]\\n    else:\\n      return np.sum(kernal*np.copy(np.array(img[pix-29:pix-26],img[pix-1:pix+2],img[pix+27:pix+30])))\\ndef kern2(img,pix):\\n  return(np.sum(kernal*np.copy(img.reshape((28,28))[pix%28-1:pix%28+2,pix/28-1:pix/28+2])))\\ndef kern3(img,pix):\\n  return(np.sum(kernal*np.copy(img.reshape((28,28))[pix%28-1:pix%28+2,pix/28-1:pix/28+2])))\\n                \\ndef img_blur1(img):                \\n  #filter_iter=np.nonzero(img<754 and img>28 and img%28!=0 and img%28!=27)\\n  print np.array(np.nonzero(img<754)).shape\\n  #print fliter_iter.shape\\nimg_blur1(x[1])\\n```'"
            ]
          },
          "metadata": {
            "tags": []
          },
          "execution_count": 118
        },
        {
          "output_type": "display_data",
          "data": {
            "image/png": "[encoded data removed]",
            "text/plain": [
              "<Figure size 432x288 with 2 Axes>"
            ]
          },
          "metadata": {
            "tags": []
          }
        }
      ]
    },
    {
      "cell_type": "code",
      "metadata": {
        "id": "Yx7SvVOLqpgx",
        "colab_type": "code",
        "colab": {
          "base_uri": "https://localhost:8080/",
          "height": 35
        },
        "outputId": "eaa4246f-83cd-406d-8364-46aea9672869"
      },
      "source": [
        "x_train.shape"
      ],
      "execution_count": 114,
      "outputs": [
        {
          "output_type": "execute_result",
          "data": {
            "text/plain": [
              "(60000, 784)"
            ]
          },
          "metadata": {
            "tags": []
          },
          "execution_count": 114
        }
      ]
    },
    {
      "cell_type": "markdown",
      "metadata": {
        "id": "5d8F0JgvLkUF",
        "colab_type": "text"
      },
      "source": [
        "ANSWER: bluring the training data, seem to have no effect. However, bluring the test/predict data has a negative effect."
      ]
    },
    {
      "cell_type": "markdown",
      "metadata": {
        "id": "W1z-ZaYoLkUF",
        "colab_type": "text"
      },
      "source": [
        "(7) Fit a Naive Bayes classifier and report accuracy on the dev data. Remember that Naive Bayes estimates P(feature|label). While sklearn can handle real-valued features, let's start by mapping the pixel values to either 0 or 1. You can do this as a preprocessing step, or with the binarize argument. With binary-valued features, you can use BernoulliNB. Next try mapping the pixel values to 0, 1, or 2, representing white, grey, or black. This mapping requires MultinomialNB. Does the multi-class version improve the results? Why or why not?"
      ]
    },
    {
      "cell_type": "code",
      "metadata": {
        "id": "itetmTpzMY7h",
        "colab_type": "code",
        "outputId": "462fd7e1-1f4c-4ff5-df0b-66b2c9b5c9e6",
        "colab": {
          "base_uri": "https://localhost:8080/",
          "height": 323
        }
      },
      "source": [
        "print(train_data.shape)\n",
        "print(np.amax(X))\n",
        "def digitize(data, bits):\n",
        "  return np.digitize(data, [bit/float(bits) for bit in range(1, bits)])\n",
        "MNB_data=digitize(train_data, 3)\n",
        "#print MNB_data[4][280:500]\n",
        "#print train_data[4][280:500]\n",
        "#MNB_data=np.array([np.array([0 if MNB< .333 else 1 if MNB <.666 else 2 for MNB in MNB_img]) for MNB_img in train_data],dtype=int)\n",
        "MNB_data= MNB_data / 2.0\n",
        "plt.imshow(MNB_data[4].reshape(28,28),  interpolation='nearest')"
      ],
      "execution_count": 102,
      "outputs": [
        {
          "output_type": "stream",
          "text": [
            "(60000, 784)\n",
            "1.0\n"
          ],
          "name": "stdout"
        },
        {
          "output_type": "execute_result",
          "data": {
            "text/plain": [
              "<matplotlib.image.AxesImage at 0x7f70f6d16210>"
            ]
          },
          "metadata": {
            "tags": []
          },
          "execution_count": 102
        },
        {
          "output_type": "display_data",
          "data": {
            "image/png": "[encoded data removed]",
            "text/plain": [
              "<Figure size 432x288 with 1 Axes>"
            ]
          },
          "metadata": {
            "tags": []
          }
        }
      ]
    },
    {
      "cell_type": "code",
      "metadata": {
        "id": "8GiGju7iWOBW",
        "colab_type": "code",
        "colab": {}
      },
      "source": [
        "\n"
      ],
      "execution_count": 0,
      "outputs": []
    },
    {
      "cell_type": "code",
      "metadata": {
        "id": "gFr5Q97TLkUG",
        "colab_type": "code",
        "outputId": "e6a57ac1-fac9-4e84-eaab-b394dd1e37c6",
        "colab": {
          "base_uri": "https://localhost:8080/",
          "height": 52
        }
      },
      "source": [
        "\n",
        "\n",
        " \n",
        "#def P7():\n",
        "\n",
        "### STUDENT START ###\n",
        "#BernoulliNB(alpha=1.0, binarize=0.5, fit_prior=True, class_prior=None)[source]\n",
        "image_numbs = BernoulliNB(alpha=1.0, binarize=0.50, class_prior=None, fit_prior=True)\n",
        "stuff=[str(i) for i in range(0,10)]\n",
        "image_numbs.fit(train_data, train_labels)\n",
        "\n",
        "res=image_numbs.predict(dev_data)\n",
        "output = classification_report(dev_labels, res, target_names=stuff,output_dict=True)\n",
        "print output.get('macro avg').get('precision')\n",
        "#class sklearn.naive_bayes.MultinomialNB(alpha=1.0, fit_prior=True, class_prior=None)\n",
        "\n",
        "multi_image_numbs=MultinomialNB(alpha=1.0, class_prior=None, fit_prior=True)\n",
        "multi_image_numbs.fit(MNB_data, train_labels)\n",
        "\n",
        "res2=multi_image_numbs.predict(dev_data)\n",
        "output2 = classification_report(dev_labels, res2, target_names=stuff,output_dict=True)\n",
        "print output2.get('macro avg').get('precision')\n",
        "\n",
        "    \n",
        "### STUDENT END ###\n",
        "\n",
        "#P7()"
      ],
      "execution_count": 247,
      "outputs": [
        {
          "output_type": "stream",
          "text": [
            "0.825012822469\n",
            "0.812551719694\n"
          ],
          "name": "stdout"
        }
      ]
    },
    {
      "cell_type": "markdown",
      "metadata": {
        "id": "qH_-xsd4LkUI",
        "colab_type": "text"
      },
      "source": [
        "ANSWER: The Multinomial naive bayes does not improve results. This is likely because the images already have high contrast and adding bits to each pixel does not add information. I checked the binariazation, changing it from0.5 to 0.8, it also did not improve detection. Chaning the binariztion did not change detection much until we get to the extremes."
      ]
    },
    {
      "cell_type": "markdown",
      "metadata": {
        "id": "tnLL2tC_LkUI",
        "colab_type": "text"
      },
      "source": [
        "(8) Use GridSearchCV to perform a search over values of alpha (the Laplace smoothing parameter) in a Bernoulli NB model. What is the best value for alpha? What is the accuracy when alpha=0? Is this what you'd expect?\n",
        "\n",
        "- Note that GridSearchCV partitions the training data so the results will be a bit different than if you used the dev data for evaluation."
      ]
    },
    {
      "cell_type": "code",
      "metadata": {
        "id": "slANjobgLkUJ",
        "colab_type": "code",
        "colab": {}
      },
      "source": [
        "#alphas = {'alpha': [0.0, 0.0001, 0.001, 0.01, 0.1, 0.5, 1.0, 2.0, 10.0]}\n",
        "def P8(alphas):\n",
        "\n",
        "### STUDENT START ###\n",
        "  #class sklearn.model_selection.GridSearchCV(estimator, param_grid, scoring=None, n_jobs=None, iid=’warn’, refit=True, cv=’warn’, verbose=0, pre_dispatch=‘2*n_jobs’, error_score=’raise-deprecating’, return_train_score=False)\n",
        "  estimator= BernoulliNB( binarize=0.5,class_prior=None, fit_prior=True)\n",
        "  stuff=[str(i) for i in range(0,10)]\n",
        "\n",
        "  gridSearch = GridSearchCV(estimator, param_grid=alphas, cv=3)\n",
        "  #gridSearch.fit(dev_data, dev_labels)\n",
        "  gridSearchfit=gridSearch.fit(train_data, train_labels)\n",
        "  return gridSearch\n",
        "\n",
        "  \n",
        "### STUDENT END ###\n",
        "\n",
        "alphas = {'alpha': [0.0, 0.0001, 0.001, 0.01, 0.1, 0.5, 1.0, 2.0, 10.0]}\n",
        "nb = P8(alphas)"
      ],
      "execution_count": 0,
      "outputs": []
    },
    {
      "cell_type": "code",
      "metadata": {
        "id": "xnVp18i9KLG9",
        "colab_type": "code",
        "outputId": "66617528-560b-4764-a038-d5e9d9833f17",
        "colab": {
          "base_uri": "https://localhost:8080/",
          "height": 70
        }
      },
      "source": [
        "image_numbs = BernoulliNB(alpha=0.0, binarize=0.50, class_prior=None, fit_prior=True)\n",
        "stuff=[str(i) for i in range(0,10)]\n",
        "image_numbs.fit(train_data, train_labels)\n",
        "\n",
        "res=image_numbs.predict(dev_data)\n",
        "output = classification_report(dev_labels, res, target_names=stuff,output_dict=True)\n",
        "print output.get('macro avg').get('precision')\n",
        "print nb.best_params_\n",
        "print nb.best_score_"
      ],
      "execution_count": 260,
      "outputs": [
        {
          "output_type": "stream",
          "text": [
            "0.826391795999\n",
            "{'alpha': 0.0}\n",
            "0.8374833333333334\n"
          ],
          "name": "stdout"
        }
      ]
    },
    {
      "cell_type": "markdown",
      "metadata": {
        "id": "cY4gNiuNLkUO",
        "colab_type": "text"
      },
      "source": [
        "ANSWER: The accuracy as I've been measuring it, has been 0.826 which is slightly better than 0.825 that I got previously. Alpha 0 is supposedly the best alpha. The reason the alpha value doesn't matter is because, our data is curated and close to evenly distributed."
      ]
    },
    {
      "cell_type": "markdown",
      "metadata": {
        "id": "PNCf7eEKLkUP",
        "colab_type": "text"
      },
      "source": [
        "(9) Try training a model using GuassianNB, which is intended for real-valued features, and evaluate on the dev data. You'll notice that it doesn't work so well. Try to diagnose the problem. You should be able to find a simple fix that returns the accuracy to around the same rate as BernoulliNB. Explain your solution.\n",
        "\n",
        "Hint: examine the parameters estimated by the fit() method, theta\\_ and sigma\\_."
      ]
    },
    {
      "cell_type": "code",
      "metadata": {
        "id": "7mvGktkrLkUP",
        "colab_type": "code",
        "colab": {}
      },
      "source": [
        "#def P9():\n",
        "\n",
        "### STUDENT END ###\n",
        "#class sklearn.naive_bayes.GaussianNB(priors=None, var_smoothing=1e-09)\n",
        "###I changed var smoothing.\n",
        "gaussNB = GaussianNB(priors=None, var_smoothing=1e-1)\n",
        "stuff=[str(i) for i in range(0,10)]\n",
        "gaussNB.fit(train_data, train_labels)\n",
        "res=gaussNB.predict(dev_data)\n",
        "output = classification_report(dev_labels, res, target_names=stuff,output_dict=True)\n",
        "print output.get('macro avg').get('precision')\n",
        "### STUDENT END ###\n",
        "##take a look at theat  and sigma\n",
        "#gnb = P9()"
      ],
      "execution_count": 0,
      "outputs": []
    },
    {
      "cell_type": "markdown",
      "metadata": {
        "id": "-JBR4VJ6LkUR",
        "colab_type": "text"
      },
      "source": [
        "ANSWER: I changed the variable smoothing. It seem that the less smoothing of any kind the better. High contrast is need for Naive baysian."
      ]
    },
    {
      "cell_type": "markdown",
      "metadata": {
        "id": "VPRMFt9lLkUS",
        "colab_type": "text"
      },
      "source": [
        "(10) Because Naive Bayes is a generative model, we can use the trained model to generate digits. Train a BernoulliNB model and then generate a 10x20 grid with 20 examples of each digit. Because you're using a Bernoulli model, each pixel output will be either 0 or 1. How do the generated digits compare to the training digits?\n",
        "\n",
        "- You can use np.random.rand() to generate random numbers from a uniform distribution\n",
        "- The estimated probability of each pixel is stored in feature\\_log\\_prob\\_. You'll need to use np.exp() to convert a log probability back to a probability."
      ]
    },
    {
      "cell_type": "code",
      "metadata": {
        "id": "ToJgTdxsLkUS",
        "colab_type": "code",
        "outputId": "b97fcb3f-6dba-45f2-da4d-ffc451491208",
        "colab": {
          "base_uri": "https://localhost:8080/",
          "height": 251
        }
      },
      "source": [
        "def P10(num_examples):\n",
        "\n",
        "### STUDENT START ###\n",
        "  image_numbs = BernoulliNB(alpha=0.001, binarize=0.5, class_prior=None, fit_prior=True)\n",
        "  image_numbs.fit(train_data, train_labels)\n",
        "  #print image_numbs.feature_log_prob_.shape\n",
        "  #rand_numb=np.random.rand(10,784)\n",
        "\n",
        "  generated=np.exp(image_numbs.feature_log_prob_)\n",
        "\n",
        "  \n",
        "  def P2(num_examples, estimator):\n",
        "    rand_numb=np.random.binomial(1,np.array([generated for i in range(num_examples)]))\n",
        "    #plt.rc(\"image\", cmap=\"Greys\")\n",
        "    for i in range(10):\n",
        "      for k in range (num_examples):\n",
        "        plt.subplot(10,num_examples,i*num_examples+k+1)\n",
        "        #Remove x and y ticks to may the plots look cleaner\n",
        "        plt.xticks([])\n",
        "        plt.yticks([])\n",
        "        #plt.imshow(x_new[i][k].reshape(28,28),cmap='Greys',  interpolation='nearest')\n",
        "        plt.imshow(rand_numb[k][i].reshape(28,28),  interpolation='nearest')\n",
        "  P2(num_examples, generated)\n",
        "#plt.imshow(rand_numb[i].reshape(28,28),  interpolation='nearest')  \n",
        "\n",
        "\n",
        "### STUDENT END ###\n",
        "\n",
        "P10(20)"
      ],
      "execution_count": 0,
      "outputs": [
        {
          "output_type": "display_data",
          "data": {
            "image/png": "[encoded data removed]",
            "text/plain": [
              "<Figure size 432x288 with 200 Axes>"
            ]
          },
          "metadata": {
            "tags": []
          }
        }
      ]
    },
    {
      "cell_type": "code",
      "metadata": {
        "id": "Jj0qb2jfizTo",
        "colab_type": "code",
        "outputId": "a3dbd813-0218-4859-ca29-2f5f1e2d70cc",
        "colab": {
          "base_uri": "https://localhost:8080/",
          "height": 255
        }
      },
      "source": [
        "def P2(num_examples):\n",
        "   \n",
        "    plt.rc(\"image\", cmap=\"Greys\")\n",
        "    for i in range(10):\n",
        "        plt.subplot(10,num_examples,i*num_examples+1)\n",
        "        #Remove x and y ticks to may the plots look cleaner\n",
        "        plt.xticks([])\n",
        "        plt.yticks([])\n",
        "        #plt.imshow(x_new[i][k].reshape(28,28),cmap='Greys',  interpolation='nearest')\n",
        "        plt.imshow(generated[i].reshape(28,28),  interpolation='nearest')\n",
        "P2(1)"
      ],
      "execution_count": 0,
      "outputs": [
        {
          "output_type": "display_data",
          "data": {
            "image/png": "[encoded data removed]",
            "text/plain": [
              "<Figure size 432x288 with 10 Axes>"
            ]
          },
          "metadata": {
            "tags": []
          }
        }
      ]
    },
    {
      "cell_type": "markdown",
      "metadata": {
        "id": "ipiQxRdCLkUV",
        "colab_type": "text"
      },
      "source": [
        "ANSWER: They are terrible. Most of them are not human readable. Luckily we already have an efficient way to generate numbers, we can use fonts."
      ]
    },
    {
      "cell_type": "markdown",
      "metadata": {
        "id": "ZU2voLvILkUX",
        "colab_type": "text"
      },
      "source": [
        "(11) Remember that a strongly calibrated classifier is rougly 90% accurate when the posterior probability of the predicted class is 0.9. A weakly calibrated classifier is more accurate when the posterior is 90% than when it is 80%. A poorly calibrated classifier has no positive correlation between posterior and accuracy.\n",
        "\n",
        "Train a BernoulliNB model with a reasonable alpha value. For each posterior bucket (think of a bin in a histogram), you want to estimate the classifier's accuracy. So for each prediction, find the bucket the maximum posterior belongs to and update the \"correct\" and \"total\" counters.\n",
        "\n",
        "How would you characterize the calibration for the Naive Bayes model?"
      ]
    },
    {
      "cell_type": "code",
      "metadata": {
        "id": "0dsdaxrYLkUX",
        "colab_type": "code",
        "outputId": "c07f9da1-4d1b-45ee-8af0-ac8951630019",
        "colab": {
          "base_uri": "https://localhost:8080/",
          "height": 230
        }
      },
      "source": [
        "def P11(buckets, correct, total):\n",
        "    \n",
        "### STUDENT START ###\n",
        "\n",
        "  image_numbs = BernoulliNB(alpha=0.001, binarize=0.5, class_prior=None, fit_prior=True)\n",
        "  stuff=[str(i) for i in range(0,10)]\n",
        "  image_numbs.fit(train_data, train_labels)\n",
        "  #print image_numbs.class_count_\n",
        "  #print  image_numbs.feature_count_\n",
        "  #print  image_numbs.feature_log_prob_ \n",
        "  #print  np.exp(image_numbs.class_log_prior_)\n",
        "  res=image_numbs.predict(dev_data)\n",
        "  predicted_prob=image_numbs.predict_proba(dev_data)\n",
        "  out_buckets=np.digitize(np.max(predicted_prob, axis=1), buckets) \n",
        " \n",
        "  correct[:]=np.unique(out_buckets[res==dev_labels] , return_counts=True)[1]\n",
        "  #correct[:]=np.unique(np.array([out_buckets[k] if res[k]==dev_labels[k] else 0 for k in range(len(res))]), return_counts=True)[1][1:]\n",
        "  total[:]=np.unique(out_buckets, return_counts=True)[1].astype(dtype=float)\n",
        "  print total\n",
        "  print correct\n",
        "### STUDENT END ###\n",
        "\n",
        "buckets = [0.5, 0.9, 0.999, 0.99999, 0.9999999, 0.999999999, 0.99999999999, 0.9999999999999, 1.0]\n",
        "correct = [0 for i in buckets]\n",
        "total = [0 for i in buckets]\n",
        "\n",
        "P11(buckets, correct, total)\n",
        "\n",
        "for i in range(len(buckets)):\n",
        "    accuracy = 0.0\n",
        "    if (total[i] > 0): accuracy = correct[i] / total[i]\n",
        "    print 'p(pred) <= %.13f    total = %3d    accuracy = %.3f' %(buckets[i], total[i], accuracy)\n",
        "sum (correct)/sum(total)"
      ],
      "execution_count": 0,
      "outputs": [
        {
          "output_type": "stream",
          "text": [
            "[30.0, 93.0, 75.0, 63.0, 70.0, 73.0, 67.0, 23.0, 506.0]\n",
            "[12, 38, 47, 49, 54, 60, 62, 21, 485]\n",
            "p(pred) <= 0.5000000000000    total =  30    accuracy = 0.400\n",
            "p(pred) <= 0.9000000000000    total =  93    accuracy = 0.409\n",
            "p(pred) <= 0.9990000000000    total =  75    accuracy = 0.627\n",
            "p(pred) <= 0.9999900000000    total =  63    accuracy = 0.778\n",
            "p(pred) <= 0.9999999000000    total =  70    accuracy = 0.771\n",
            "p(pred) <= 0.9999999990000    total =  73    accuracy = 0.822\n",
            "p(pred) <= 0.9999999999900    total =  67    accuracy = 0.925\n",
            "p(pred) <= 0.9999999999999    total =  23    accuracy = 0.913\n",
            "p(pred) <= 1.0000000000000    total = 506    accuracy = 0.958\n"
          ],
          "name": "stdout"
        },
        {
          "output_type": "execute_result",
          "data": {
            "text/plain": [
              "0.828"
            ]
          },
          "metadata": {
            "tags": []
          },
          "execution_count": 35
        }
      ]
    },
    {
      "cell_type": "markdown",
      "metadata": {
        "id": "x44WGcXfLkUa",
        "colab_type": "text"
      },
      "source": [
        "**ANSWER**: The NB estimator, clearly over estimates it's own predictions by a significant margin. For example for prediction value below 90% but above 50% the NB estimator guess correctly 41% of the time. This is only slightly better than predictions for prediction values below 50%. This does not change much for prediction balues of 99% where only 62% are correct. "
      ]
    },
    {
      "cell_type": "markdown",
      "metadata": {
        "id": "NPCGFg_yLkUa",
        "colab_type": "text"
      },
      "source": [
        "(12) EXTRA CREDIT\n",
        "\n",
        "Try designing extra features to see if you can improve the performance of Naive Bayes on the dev set. Here are a few ideas to get you started:\n",
        "- Try summing the pixel values in each row and each column.\n",
        "- Try counting the number of enclosed regions; 8 usually has 2 enclosed regions, 9 usually has 1, and 7 usually has 0.\n",
        "\n",
        "Make sure you comment your code well!"
      ]
    },
    {
      "cell_type": "code",
      "metadata": {
        "id": "xjEcU7SULkUb",
        "colab_type": "code",
        "outputId": "db8aed46-eea5-4b5e-e8c9-ece2ca2c19dc",
        "colab": {
          "base_uri": "https://localhost:8080/",
          "height": 52
        }
      },
      "source": [
        "#def P12():\n",
        "\n",
        "### STUDENT START ###\n",
        "#start=np.zeros((dev_data.shape[0],28*2))\n",
        "#iter_concat=[np.concatenate(x,np.sum(x.reshape(28,28),axis=0),np.sum(x.reshape(28,28),axis=1)) for x in dev_data]\n",
        "\n",
        "#[x[i] if i<28*28 else  for   ]\n",
        "#print \n",
        "#print np.concatenate(np.sum(x.reshape(28,28),axis=0).reshape(1,28), np.sum(x.reshape(28,28),axis=1).reshape(1,28))\n",
        "#x_rows= np.array([np.sum(x[i].reshape(28,28),axis=0).flatten() for i in range(x.shape[0])])\n",
        "#x_cols=np.array([np.sum(x[i].reshape(28,28),axis=1).flatten() for i in range(x.shape[0])])\n",
        "#print np.concatenate((x_rows, x_cols), axis=1).shape\n",
        "\n",
        "#iter= np.concatenate(x,sum(x.reshape(28,28),axis=0),sum(x.reshape(28,28),axis=1))\n",
        "#print np.fromiter(iter_concat).shape\n",
        "kernal=[[0.01, 0.08, 0.01],[0.08, 0.64, 0.08],[0.01, 0.08, 0.01]]\n",
        "def digitize(data, bits):\n",
        "  return np.digitize(data, [bit/float(bits) for bit in range(1, bits)])\n",
        "\n",
        "#MNB_data= MNB_data / 2.0\n",
        "#plt.imshow(MNB_data[4].reshape(28,28),  interpolation='nearest')\n",
        "def filt(pix):\n",
        "  return pix>754 or pix<28 or pix%28==0 or pix%28==27\n",
        "def kernx(img,pix):\n",
        "  return np.sum(kernal*np.array((img[pix-29:pix-26],img[pix-1:pix+2],img[pix+27:pix+30])))\n",
        "def kernal_iter(img):\n",
        "  return (img[pix] if filt(pix) else kernx(img,pix) for pix in range(len(img))) \n",
        "def img_blur(img):\n",
        "  return np.fromiter(kernal_iter(img),float, count=len(img))\n",
        "def data_blur_all(arr):\n",
        "  return np.apply_along_axis(img_blur, 0, np.copy(arr))\n",
        "#x_train=np.apply_along_axis(img_blur, 0, np.copy(train_data))\n",
        "def sum_arr(x,axis):\n",
        "  array=np.sum(x.reshape(28,28),axis=axis).flatten()\n",
        "  return array\n",
        "def concat(x):\n",
        "  return np.concatenate((x,sum_arr(x,1),sum_arr(x,1)) )\n",
        "#x=np.copy(dev_data)\n",
        "#print .shape\n",
        "x_dev=dev_data\n",
        "x_train=train_data\n",
        "image_numbs = BernoulliNB(alpha=0.01, binarize=0.5, class_prior=None, fit_prior=True)\n",
        "stuff=[str(i) for i in range(0,10)]\n",
        "x_train=np.apply_along_axis(concat, 1, np.copy(x_train))\n",
        "x_dev=np.apply_along_axis(concat, 1, np.copy(x_dev))\n",
        "image_numbs.fit(x_train, train_labels)\n",
        "pred=image_numbs.predict(x_dev)\n",
        "output = classification_report(dev_labels,pred, target_names=stuff,output_dict=True)\n",
        "\n",
        "print output.get('macro avg').get('precision')\n",
        "#MNB_data=digitize(train_data, 3)\n",
        "#x_dev=digitize(dev_data, 3)\n",
        "multi_image_numbs=MultinomialNB(alpha=1.0, class_prior=None, fit_prior=True)\n",
        "#x_dev=np.apply_along_axis(concat, 1, np.copy(x_dev))\n",
        "#x_train=np.apply_along_axis(concat, 1, np.copy(MNB_data))\n",
        "multi_image_numbs.fit(x_train, train_labels)\n",
        "res2=multi_image_numbs.predict(x_dev)\n",
        "output2 = classification_report(dev_labels, res2, target_names=stuff,output_dict=True)\n",
        "print output2.get('macro avg').get('precision')\n",
        "### STUDENT END ###\n",
        "\n",
        "#P12()"
      ],
      "execution_count": 224,
      "outputs": [
        {
          "output_type": "stream",
          "text": [
            "0.836576990612\n",
            "0.821187014172\n"
          ],
          "name": "stdout"
        }
      ]
    },
    {
      "cell_type": "code",
      "metadata": {
        "id": "Jqlwlj0vfXK_",
        "colab_type": "code",
        "outputId": "a011b7c9-77fb-4445-8c61-1a454e80e316",
        "colab": {
          "base_uri": "https://localhost:8080/",
          "height": 106
        }
      },
      "source": [
        ""
      ],
      "execution_count": 0,
      "outputs": [
        {
          "output_type": "stream",
          "text": [
            "[[1 2]\n",
            " [3 4]\n",
            " [5 6]]\n",
            "(1000,)\n",
            "(784,)\n"
          ],
          "name": "stdout"
        }
      ]
    },
    {
      "cell_type": "markdown",
      "metadata": {
        "id": "8tmBpjY4v7gm",
        "colab_type": "text"
      },
      "source": [
        "Turns out that gaussian filtering makes predicting worse, but has no effect on training 0.836576990612. Adding the sum of columns and rows did help on the margin, adding a 1% point to both the NBMBernoulli and  NB Bernoulli."
      ]
    }
  ]
}